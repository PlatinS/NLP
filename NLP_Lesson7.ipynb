{
 "cells": [
  {
   "cell_type": "code",
   "execution_count": 1,
   "metadata": {},
   "outputs": [],
   "source": [
    "import numpy as np\n",
    "import os\n",
    "import time"
   ]
  },
  {
   "cell_type": "code",
   "execution_count": 2,
   "metadata": {},
   "outputs": [],
   "source": [
    "import tensorflow as tf"
   ]
  },
  {
   "cell_type": "code",
   "execution_count": 3,
   "metadata": {},
   "outputs": [
    {
     "name": "stdout",
     "output_type": "stream",
     "text": [
      "Length of text: 286984 characters\n"
     ]
    }
   ],
   "source": [
    "path_to_file = 'evgenyi_onegin.txt'\n",
    "text = open(path_to_file, 'rb').read().decode(encoding='utf-8')\n",
    "# length of text is the number of characters in it\n",
    "print('Length of text: {} characters'.format(len(text)))"
   ]
  },
  {
   "cell_type": "code",
   "execution_count": 4,
   "metadata": {},
   "outputs": [
    {
     "name": "stdout",
     "output_type": "stream",
     "text": [
      "Александр Сергеевич Пушкин\n",
      "\n",
      "                                Евгений Онегин\n",
      "                                Роман в стихах\n",
      "\n",
      "                        Не мысля гордый свет забавить,\n",
      "                        Вниманье дружбы возлюбя,\n",
      "                        Хотел бы я тебе представить\n",
      "                        Залог достойнее тебя,\n",
      "                        Достойнее души прекрасной,\n",
      "                        Святой исполненной мечты,\n",
      "                        Поэзии живой и ясной,\n",
      "                        Высо\n"
     ]
    }
   ],
   "source": [
    "print(text[:500])"
   ]
  },
  {
   "cell_type": "code",
   "execution_count": 5,
   "metadata": {},
   "outputs": [],
   "source": [
    "import re\n",
    "import nltk\n",
    "from string import punctuation"
   ]
  },
  {
   "cell_type": "code",
   "execution_count": 6,
   "metadata": {},
   "outputs": [],
   "source": [
    "exclude = set(punctuation)\n",
    "\n",
    "def preprocess_text(txt):\n",
    "    txt = str(txt)\n",
    "    #txt = re.sub(\"\\n\", \" \", txt)\n",
    "    txt = \"\".join(c for c in txt if c not in exclude)\n",
    "    return \"\".join(txt)"
   ]
  },
  {
   "cell_type": "code",
   "execution_count": 7,
   "metadata": {},
   "outputs": [],
   "source": [
    "text = preprocess_text(text)"
   ]
  },
  {
   "cell_type": "code",
   "execution_count": 8,
   "metadata": {},
   "outputs": [
    {
     "data": {
      "text/plain": [
       "'Александр Сергеевич Пушкин\\n\\n                                Евгений Онегин\\n                                Роман в стихах\\n\\n                        Не мысля гордый свет забавить\\n                        Вниманье дружбы возлюбя\\n                        Хотел бы я тебе представить\\n                        Залог достойнее тебя\\n                        Достойнее души прекрасной\\n                        Святой исполненной мечты\\n                        Поэзии живой и ясной\\n                        Высоких ду'"
      ]
     },
     "execution_count": 8,
     "metadata": {},
     "output_type": "execute_result"
    }
   ],
   "source": [
    "text[:500]"
   ]
  },
  {
   "cell_type": "code",
   "execution_count": 9,
   "metadata": {},
   "outputs": [],
   "source": [
    "text_tokens = nltk.word_tokenize(text)"
   ]
  },
  {
   "cell_type": "code",
   "execution_count": 10,
   "metadata": {},
   "outputs": [
    {
     "data": {
      "text/plain": [
       "['Александр',\n",
       " 'Сергеевич',\n",
       " 'Пушкин',\n",
       " 'Евгений',\n",
       " 'Онегин',\n",
       " 'Роман',\n",
       " 'в',\n",
       " 'стихах',\n",
       " 'Не',\n",
       " 'мысля',\n",
       " 'гордый',\n",
       " 'свет',\n",
       " 'забавить',\n",
       " 'Вниманье',\n",
       " 'дружбы',\n",
       " 'возлюбя',\n",
       " 'Хотел',\n",
       " 'бы',\n",
       " 'я',\n",
       " 'тебе',\n",
       " 'представить',\n",
       " 'Залог',\n",
       " 'достойнее',\n",
       " 'тебя',\n",
       " 'Достойнее',\n",
       " 'души',\n",
       " 'прекрасной',\n",
       " 'Святой',\n",
       " 'исполненной',\n",
       " 'мечты']"
      ]
     },
     "execution_count": 10,
     "metadata": {},
     "output_type": "execute_result"
    }
   ],
   "source": [
    "text_tokens[:30]"
   ]
  },
  {
   "cell_type": "code",
   "execution_count": 11,
   "metadata": {},
   "outputs": [
    {
     "data": {
      "text/plain": [
       "9331"
      ]
     },
     "execution_count": 11,
     "metadata": {},
     "output_type": "execute_result"
    }
   ],
   "source": [
    "vocab = sorted(set(text_tokens))\n",
    "len(vocab)"
   ]
  },
  {
   "cell_type": "code",
   "execution_count": 12,
   "metadata": {},
   "outputs": [],
   "source": [
    "# Creating a mapping from unique words to indices\n",
    "word2idx = {u:i for i, u in enumerate(vocab)}\n",
    "idx2word = np.array(vocab)\n",
    "\n",
    "text_as_int = np.array([word2idx[w] for w in text_tokens])"
   ]
  },
  {
   "cell_type": "code",
   "execution_count": 13,
   "metadata": {},
   "outputs": [
    {
     "data": {
      "text/plain": [
       "23058"
      ]
     },
     "execution_count": 13,
     "metadata": {},
     "output_type": "execute_result"
    }
   ],
   "source": [
    "len(text_as_int)"
   ]
  },
  {
   "cell_type": "code",
   "execution_count": 14,
   "metadata": {},
   "outputs": [
    {
     "data": {
      "text/plain": [
       "23058"
      ]
     },
     "execution_count": 14,
     "metadata": {},
     "output_type": "execute_result"
    }
   ],
   "source": [
    "len(text_tokens)"
   ]
  },
  {
   "cell_type": "code",
   "execution_count": 15,
   "metadata": {},
   "outputs": [
    {
     "data": {
      "text/plain": [
       "'Везут'"
      ]
     },
     "execution_count": 15,
     "metadata": {},
     "output_type": "execute_result"
    }
   ],
   "source": [
    "idx2word[341]"
   ]
  },
  {
   "cell_type": "code",
   "execution_count": 16,
   "metadata": {},
   "outputs": [
    {
     "data": {
      "text/plain": [
       "341"
      ]
     },
     "execution_count": 16,
     "metadata": {},
     "output_type": "execute_result"
    }
   ],
   "source": [
    "word2idx['Везут']"
   ]
  },
  {
   "cell_type": "markdown",
   "metadata": {},
   "source": [
    "### Train and Target"
   ]
  },
  {
   "cell_type": "code",
   "execution_count": 19,
   "metadata": {},
   "outputs": [
    {
     "name": "stdout",
     "output_type": "stream",
     "text": [
      "Александр\n",
      "Сергеевич\n",
      "Пушкин\n",
      "Евгений\n",
      "Онегин\n"
     ]
    }
   ],
   "source": [
    "# The maximum length sentence you want for a single input in words\n",
    "seq_length = 15\n",
    "examples_per_epoch = len(text_tokens)//(seq_length+1)\n",
    "\n",
    "# Create training examples / targets\n",
    "word_dataset = tf.data.Dataset.from_tensor_slices(text_as_int)\n",
    "\n",
    "for i in word_dataset.take(5):\n",
    "    print(idx2word[i.numpy()])"
   ]
  },
  {
   "cell_type": "code",
   "execution_count": 20,
   "metadata": {},
   "outputs": [
    {
     "name": "stdout",
     "output_type": "stream",
     "text": [
      "'Александр Сергеевич Пушкин Евгений Онегин Роман в стихах Не мысля гордый свет забавить Вниманье дружбы возлюбя'\n",
      "'Хотел бы я тебе представить Залог достойнее тебя Достойнее души прекрасной Святой исполненной мечты Поэзии живой'\n",
      "'и ясной Высоких дум и простоты Но так и быть рукой пристрастной Прими собранье пестрых глав'\n",
      "'Полусмешных полупечальных Простонародных идеальных Небрежный плод моих забав Бессонниц легких вдохновений Незрелых и увядших лет Ума'\n",
      "'холодных наблюдений И сердца горестных замет ГЛАВА ПЕРВАЯ И жить торопится и чувствовать спешит Кн Вяземский'\n"
     ]
    }
   ],
   "source": [
    "sequences = word_dataset.batch(seq_length+1, drop_remainder=True)\n",
    "\n",
    "for item in sequences.take(5):\n",
    "    print(repr(' '.join(idx2word[item.numpy()])))"
   ]
  },
  {
   "cell_type": "code",
   "execution_count": 21,
   "metadata": {},
   "outputs": [],
   "source": [
    "def split_input_target(chunk):\n",
    "    input_text = chunk[:-1]\n",
    "    target_text = chunk[1:]\n",
    "    return input_text, target_text\n",
    "\n",
    "dataset = sequences.map(split_input_target)"
   ]
  },
  {
   "cell_type": "code",
   "execution_count": 22,
   "metadata": {},
   "outputs": [
    {
     "name": "stdout",
     "output_type": "stream",
     "text": [
      "Input data:  'Александр Сергеевич Пушкин Евгений Онегин Роман в стихах Не мысля гордый свет забавить Вниманье дружбы'\n",
      "Target data: 'Сергеевич Пушкин Евгений Онегин Роман в стихах Не мысля гордый свет забавить Вниманье дружбы возлюбя'\n"
     ]
    }
   ],
   "source": [
    "for input_example, target_example in  dataset.take(1):\n",
    "    print('Input data: ', repr(' '.join(idx2word[input_example.numpy()])))\n",
    "    print('Target data:', repr(' '.join(idx2word[target_example.numpy()])))"
   ]
  },
  {
   "cell_type": "code",
   "execution_count": 23,
   "metadata": {},
   "outputs": [
    {
     "data": {
      "text/plain": [
       "<BatchDataset shapes: ((64, 15), (64, 15)), types: (tf.int32, tf.int32)>"
      ]
     },
     "execution_count": 23,
     "metadata": {},
     "output_type": "execute_result"
    }
   ],
   "source": [
    "# Batch size\n",
    "BATCH_SIZE = 64\n",
    "\n",
    "# Buffer size to shuffle the dataset\n",
    "# (TF data is designed to work with possibly infinite sequences,\n",
    "# so it doesn't attempt to shuffle the entire sequence in memory. Instead,\n",
    "# it maintains a buffer in which it shuffles elements).\n",
    "BUFFER_SIZE = 5120\n",
    "\n",
    "dataset = dataset.shuffle(BUFFER_SIZE).batch(BATCH_SIZE, drop_remainder=True)\n",
    "dataset"
   ]
  },
  {
   "cell_type": "code",
   "execution_count": 24,
   "metadata": {},
   "outputs": [],
   "source": [
    "# Length of the vocabulary in words\n",
    "vocab_size = len(vocab)\n",
    "\n",
    "# The embedding dimension\n",
    "embedding_dim = 256\n",
    "\n",
    "# Number of RNN units\n",
    "rnn_units = 1024"
   ]
  },
  {
   "cell_type": "code",
   "execution_count": 25,
   "metadata": {},
   "outputs": [],
   "source": [
    "def build_model(vocab_size, embedding_dim, rnn_units, batch_size):\n",
    "    model = tf.keras.Sequential([\n",
    "        tf.keras.layers.Embedding(vocab_size, embedding_dim,\n",
    "                                  batch_input_shape=[batch_size, None]),\n",
    "                                 \n",
    "        tf.keras.layers.GRU(rnn_units,\n",
    "                            return_sequences=True,\n",
    "                            stateful=True,\n",
    "                            recurrent_initializer='glorot_uniform'),\n",
    "        \n",
    "        tf.keras.layers.LSTM(rnn_units, return_sequences=True, stateful=True, recurrent_initializer='glorot_uniform'),\n",
    "                                   \n",
    "        tf.keras.layers.Dense(vocab_size)\n",
    "    ])\n",
    "    return model"
   ]
  },
  {
   "cell_type": "code",
   "execution_count": 26,
   "metadata": {},
   "outputs": [],
   "source": [
    "model = build_model(\n",
    "    vocab_size=len(vocab),\n",
    "    embedding_dim=embedding_dim,\n",
    "    rnn_units=rnn_units,\n",
    "    batch_size=BATCH_SIZE)"
   ]
  },
  {
   "cell_type": "code",
   "execution_count": 27,
   "metadata": {},
   "outputs": [
    {
     "name": "stdout",
     "output_type": "stream",
     "text": [
      "(64, 15, 9331) # (batch_size, sequence_length, vocab_size)\n"
     ]
    }
   ],
   "source": [
    "for input_example_batch, target_example_batch in dataset.take(1):\n",
    "    example_batch_predictions = model(input_example_batch)\n",
    "    print(example_batch_predictions.shape, \"# (batch_size, sequence_length, vocab_size)\")"
   ]
  },
  {
   "cell_type": "code",
   "execution_count": 28,
   "metadata": {},
   "outputs": [
    {
     "name": "stdout",
     "output_type": "stream",
     "text": [
      "Model: \"sequential\"\n",
      "_________________________________________________________________\n",
      "Layer (type)                 Output Shape              Param #   \n",
      "=================================================================\n",
      "embedding (Embedding)        (64, None, 256)           2388736   \n",
      "_________________________________________________________________\n",
      "gru (GRU)                    (64, None, 1024)          3938304   \n",
      "_________________________________________________________________\n",
      "lstm (LSTM)                  (64, None, 1024)          8392704   \n",
      "_________________________________________________________________\n",
      "dense (Dense)                (64, None, 9331)          9564275   \n",
      "=================================================================\n",
      "Total params: 24,284,019\n",
      "Trainable params: 24,284,019\n",
      "Non-trainable params: 0\n",
      "_________________________________________________________________\n"
     ]
    }
   ],
   "source": [
    "model.summary()"
   ]
  },
  {
   "cell_type": "code",
   "execution_count": 29,
   "metadata": {},
   "outputs": [],
   "source": [
    "sampled_indices = tf.random.categorical(example_batch_predictions[0], num_samples=1)\n",
    "sampled_indices = tf.squeeze(sampled_indices,axis=-1).numpy()"
   ]
  },
  {
   "cell_type": "code",
   "execution_count": 32,
   "metadata": {},
   "outputs": [
    {
     "data": {
      "text/plain": [
       "<tf.Tensor: shape=(9331,), dtype=float32, numpy=\n",
       "array([-0.00020315,  0.0014102 , -0.00129801, ...,  0.00037309,\n",
       "       -0.00055037, -0.00010976], dtype=float32)>"
      ]
     },
     "execution_count": 32,
     "metadata": {},
     "output_type": "execute_result"
    }
   ],
   "source": [
    "example_batch_predictions[0][2]"
   ]
  },
  {
   "cell_type": "code",
   "execution_count": 34,
   "metadata": {},
   "outputs": [
    {
     "name": "stdout",
     "output_type": "stream",
     "text": [
      "Input: \n",
      " 'проворно'\n",
      "Next Char Predictions: \n",
      " 'полураскрытый Нести хижина такихто прадедов пей сказки Свершить домашним наводят одинокий старины пламень боком опасной'\n"
     ]
    }
   ],
   "source": [
    "print(\"Input: \\n\", repr(\"\".join(idx2word[input_example_batch[0][2]])))\n",
    "print(\"Next Char Predictions: \\n\", repr(\" \".join(idx2word[sampled_indices])))"
   ]
  },
  {
   "cell_type": "markdown",
   "metadata": {},
   "source": [
    "### Train the model"
   ]
  },
  {
   "cell_type": "code",
   "execution_count": 35,
   "metadata": {},
   "outputs": [
    {
     "name": "stdout",
     "output_type": "stream",
     "text": [
      "Prediction shape:  (64, 15, 9331)  # (batch_size, sequence_length, vocab_size)\n",
      "Scalar_loss:       9.141065\n"
     ]
    }
   ],
   "source": [
    "def loss(labels, logits):\n",
    "    return tf.keras.losses.sparse_categorical_crossentropy(labels, logits, from_logits=True)\n",
    "\n",
    "example_batch_loss = loss(target_example_batch, example_batch_predictions)\n",
    "print(\"Prediction shape: \", example_batch_predictions.shape, \" # (batch_size, sequence_length, vocab_size)\")\n",
    "print(\"Scalar_loss:      \", example_batch_loss.numpy().mean())"
   ]
  },
  {
   "cell_type": "code",
   "execution_count": 36,
   "metadata": {},
   "outputs": [],
   "source": [
    "model.compile(optimizer='adam', loss=loss)"
   ]
  },
  {
   "cell_type": "code",
   "execution_count": 37,
   "metadata": {},
   "outputs": [
    {
     "name": "stdout",
     "output_type": "stream",
     "text": [
      "WARNING:tensorflow:`period` argument is deprecated. Please use `save_freq` to specify the frequency in number of samples seen.\n"
     ]
    }
   ],
   "source": [
    "# Configure checkpoints\n",
    "# Directory where the checkpoints will be saved\n",
    "checkpoint_dir = './training_checkpoints'\n",
    "# Name of the checkpoint files\n",
    "checkpoint_prefix = os.path.join(checkpoint_dir, \"ckpt_{epoch}\")\n",
    "\n",
    "checkpoint_callback = tf.keras.callbacks.ModelCheckpoint(\n",
    "    filepath=checkpoint_prefix,\n",
    "    period=20,\n",
    "    save_weights_only=True)"
   ]
  },
  {
   "cell_type": "code",
   "execution_count": 38,
   "metadata": {},
   "outputs": [
    {
     "name": "stdout",
     "output_type": "stream",
     "text": [
      "Train for 22 steps\n",
      "Epoch 1/200\n",
      "22/22 [==============================] - 2s 85ms/step - loss: 8.7340\n",
      "Epoch 2/200\n",
      "22/22 [==============================] - 1s 36ms/step - loss: 8.2756\n",
      "Epoch 3/200\n",
      "22/22 [==============================] - 1s 36ms/step - loss: 8.0739\n",
      "Epoch 4/200\n",
      "22/22 [==============================] - 1s 36ms/step - loss: 7.9093\n",
      "Epoch 5/200\n",
      "22/22 [==============================] - 1s 36ms/step - loss: 7.7840\n",
      "Epoch 6/200\n",
      "22/22 [==============================] - 1s 36ms/step - loss: 7.6953\n",
      "Epoch 7/200\n",
      "22/22 [==============================] - 1s 36ms/step - loss: 7.6164\n",
      "Epoch 8/200\n",
      "22/22 [==============================] - 1s 36ms/step - loss: 7.5033\n",
      "Epoch 9/200\n",
      "22/22 [==============================] - 1s 36ms/step - loss: 7.3551\n",
      "Epoch 10/200\n",
      "22/22 [==============================] - 1s 36ms/step - loss: 7.1999\n",
      "Epoch 11/200\n",
      "22/22 [==============================] - 1s 36ms/step - loss: 7.0407\n",
      "Epoch 12/200\n",
      "22/22 [==============================] - 1s 35ms/step - loss: 6.8660\n",
      "Epoch 13/200\n",
      "22/22 [==============================] - 1s 36ms/step - loss: 6.6809\n",
      "Epoch 14/200\n",
      "22/22 [==============================] - 1s 36ms/step - loss: 6.4853\n",
      "Epoch 15/200\n",
      "22/22 [==============================] - 1s 36ms/step - loss: 6.2697\n",
      "Epoch 16/200\n",
      "22/22 [==============================] - 1s 36ms/step - loss: 6.0595\n",
      "Epoch 17/200\n",
      "22/22 [==============================] - 1s 36ms/step - loss: 5.8280\n",
      "Epoch 18/200\n",
      "22/22 [==============================] - 1s 36ms/step - loss: 5.6063\n",
      "Epoch 19/200\n",
      "22/22 [==============================] - 1s 36ms/step - loss: 5.3738\n",
      "Epoch 20/200\n",
      "22/22 [==============================] - 1s 61ms/step - loss: 5.1392\n",
      "Epoch 21/200\n",
      "22/22 [==============================] - 1s 36ms/step - loss: 4.8948\n",
      "Epoch 22/200\n",
      "22/22 [==============================] - 1s 34ms/step - loss: 4.6636\n",
      "Epoch 23/200\n",
      "22/22 [==============================] - 1s 35ms/step - loss: 4.4202\n",
      "Epoch 24/200\n",
      "22/22 [==============================] - 1s 34ms/step - loss: 4.1802\n",
      "Epoch 25/200\n",
      "22/22 [==============================] - 1s 35ms/step - loss: 3.9419\n",
      "Epoch 26/200\n",
      "22/22 [==============================] - 1s 34ms/step - loss: 3.7102\n",
      "Epoch 27/200\n",
      "22/22 [==============================] - 1s 35ms/step - loss: 3.4730\n",
      "Epoch 28/200\n",
      "22/22 [==============================] - 1s 34ms/step - loss: 3.2590\n",
      "Epoch 29/200\n",
      "22/22 [==============================] - 1s 35ms/step - loss: 3.0468\n",
      "Epoch 30/200\n",
      "22/22 [==============================] - 1s 35ms/step - loss: 2.8506\n",
      "Epoch 31/200\n",
      "22/22 [==============================] - 1s 35ms/step - loss: 2.6447\n",
      "Epoch 32/200\n",
      "22/22 [==============================] - 1s 34ms/step - loss: 2.4743\n",
      "Epoch 33/200\n",
      "22/22 [==============================] - 1s 35ms/step - loss: 2.3045\n",
      "Epoch 34/200\n",
      "22/22 [==============================] - 1s 34ms/step - loss: 2.1551\n",
      "Epoch 35/200\n",
      "22/22 [==============================] - 1s 34ms/step - loss: 2.0116\n",
      "Epoch 36/200\n",
      "22/22 [==============================] - 1s 34ms/step - loss: 1.8858\n",
      "Epoch 37/200\n",
      "22/22 [==============================] - 1s 35ms/step - loss: 1.7662\n",
      "Epoch 38/200\n",
      "22/22 [==============================] - 1s 35ms/step - loss: 1.6518\n",
      "Epoch 39/200\n",
      "22/22 [==============================] - 1s 35ms/step - loss: 1.5551\n",
      "Epoch 40/200\n",
      "22/22 [==============================] - 1s 59ms/step - loss: 1.4598\n",
      "Epoch 41/200\n",
      "22/22 [==============================] - 1s 34ms/step - loss: 1.3676\n",
      "Epoch 42/200\n",
      "22/22 [==============================] - 1s 35ms/step - loss: 1.2842\n",
      "Epoch 43/200\n",
      "22/22 [==============================] - 1s 35ms/step - loss: 1.2083\n",
      "Epoch 44/200\n",
      "22/22 [==============================] - 1s 35ms/step - loss: 1.1520\n",
      "Epoch 45/200\n",
      "22/22 [==============================] - 1s 35ms/step - loss: 1.0835\n",
      "Epoch 46/200\n",
      "22/22 [==============================] - 1s 35ms/step - loss: 1.0239\n",
      "Epoch 47/200\n",
      "22/22 [==============================] - 1s 35ms/step - loss: 0.9696\n",
      "Epoch 48/200\n",
      "22/22 [==============================] - 1s 35ms/step - loss: 0.9229\n",
      "Epoch 49/200\n",
      "22/22 [==============================] - 1s 35ms/step - loss: 0.8763\n",
      "Epoch 50/200\n",
      "22/22 [==============================] - 1s 34ms/step - loss: 0.8351\n",
      "Epoch 51/200\n",
      "22/22 [==============================] - 1s 35ms/step - loss: 0.8017\n",
      "Epoch 52/200\n",
      "22/22 [==============================] - 1s 37ms/step - loss: 0.7671\n",
      "Epoch 53/200\n",
      "22/22 [==============================] - 1s 35ms/step - loss: 0.7421\n",
      "Epoch 54/200\n",
      "22/22 [==============================] - 1s 35ms/step - loss: 0.7066\n",
      "Epoch 55/200\n",
      "22/22 [==============================] - 1s 35ms/step - loss: 0.6851\n",
      "Epoch 56/200\n",
      "22/22 [==============================] - 1s 35ms/step - loss: 0.6548\n",
      "Epoch 57/200\n",
      "22/22 [==============================] - 1s 35ms/step - loss: 0.6337\n",
      "Epoch 58/200\n",
      "22/22 [==============================] - 1s 35ms/step - loss: 0.6081\n",
      "Epoch 59/200\n",
      "22/22 [==============================] - 1s 37ms/step - loss: 0.5827\n",
      "Epoch 60/200\n",
      "22/22 [==============================] - 1s 61ms/step - loss: 0.5702\n",
      "Epoch 61/200\n",
      "22/22 [==============================] - 1s 35ms/step - loss: 0.5542\n",
      "Epoch 62/200\n",
      "22/22 [==============================] - 1s 34ms/step - loss: 0.5317\n",
      "Epoch 63/200\n",
      "22/22 [==============================] - 1s 35ms/step - loss: 0.5202\n",
      "Epoch 64/200\n",
      "22/22 [==============================] - 1s 36ms/step - loss: 0.5099\n",
      "Epoch 65/200\n",
      "22/22 [==============================] - 1s 36ms/step - loss: 0.4915\n",
      "Epoch 66/200\n",
      "22/22 [==============================] - 1s 35ms/step - loss: 0.4795\n",
      "Epoch 67/200\n",
      "22/22 [==============================] - 1s 36ms/step - loss: 0.4649\n",
      "Epoch 68/200\n",
      "22/22 [==============================] - 1s 35ms/step - loss: 0.4539\n",
      "Epoch 69/200\n",
      "22/22 [==============================] - 1s 35ms/step - loss: 0.4429\n",
      "Epoch 70/200\n",
      "22/22 [==============================] - 1s 35ms/step - loss: 0.4392\n",
      "Epoch 71/200\n",
      "22/22 [==============================] - 1s 35ms/step - loss: 0.4193\n",
      "Epoch 72/200\n",
      "22/22 [==============================] - 1s 35ms/step - loss: 0.4134\n",
      "Epoch 73/200\n",
      "22/22 [==============================] - 1s 35ms/step - loss: 0.3991\n",
      "Epoch 74/200\n",
      "22/22 [==============================] - 1s 35ms/step - loss: 0.3886\n",
      "Epoch 75/200\n",
      "22/22 [==============================] - 1s 35ms/step - loss: 0.3811\n",
      "Epoch 76/200\n",
      "22/22 [==============================] - 1s 35ms/step - loss: 0.3763\n",
      "Epoch 77/200\n",
      "22/22 [==============================] - 1s 35ms/step - loss: 0.3645\n",
      "Epoch 78/200\n",
      "22/22 [==============================] - 1s 35ms/step - loss: 0.3603\n",
      "Epoch 79/200\n",
      "22/22 [==============================] - 1s 35ms/step - loss: 0.3527\n",
      "Epoch 80/200\n",
      "22/22 [==============================] - 1s 58ms/step - loss: 0.3407\n",
      "Epoch 81/200\n",
      "22/22 [==============================] - 1s 35ms/step - loss: 0.3330\n",
      "Epoch 82/200\n",
      "22/22 [==============================] - 1s 35ms/step - loss: 0.3295\n",
      "Epoch 83/200\n",
      "22/22 [==============================] - 1s 35ms/step - loss: 0.3203\n",
      "Epoch 84/200\n",
      "22/22 [==============================] - 1s 35ms/step - loss: 0.3162\n",
      "Epoch 85/200\n",
      "22/22 [==============================] - 1s 35ms/step - loss: 0.3051\n",
      "Epoch 86/200\n",
      "22/22 [==============================] - 1s 35ms/step - loss: 0.2974\n",
      "Epoch 87/200\n",
      "22/22 [==============================] - 1s 35ms/step - loss: 0.2902\n",
      "Epoch 88/200\n",
      "22/22 [==============================] - 1s 35ms/step - loss: 0.2843\n",
      "Epoch 89/200\n",
      "22/22 [==============================] - 1s 35ms/step - loss: 0.2810\n",
      "Epoch 90/200\n",
      "22/22 [==============================] - 1s 35ms/step - loss: 0.2765\n",
      "Epoch 91/200\n",
      "22/22 [==============================] - 1s 35ms/step - loss: 0.2733\n",
      "Epoch 92/200\n",
      "22/22 [==============================] - 1s 36ms/step - loss: 0.2624\n",
      "Epoch 93/200\n",
      "22/22 [==============================] - 1s 36ms/step - loss: 0.2632\n",
      "Epoch 94/200\n",
      "22/22 [==============================] - 1s 35ms/step - loss: 0.2578\n",
      "Epoch 95/200\n",
      "22/22 [==============================] - 1s 35ms/step - loss: 0.2504\n",
      "Epoch 96/200\n",
      "22/22 [==============================] - 1s 35ms/step - loss: 0.2493\n",
      "Epoch 97/200\n",
      "22/22 [==============================] - 1s 34ms/step - loss: 0.2427\n",
      "Epoch 98/200\n",
      "22/22 [==============================] - 1s 35ms/step - loss: 0.2337\n",
      "Epoch 99/200\n",
      "22/22 [==============================] - 1s 35ms/step - loss: 0.2321\n",
      "Epoch 100/200\n"
     ]
    },
    {
     "name": "stdout",
     "output_type": "stream",
     "text": [
      "22/22 [==============================] - 1s 59ms/step - loss: 0.2285\n",
      "Epoch 101/200\n",
      "22/22 [==============================] - 1s 35ms/step - loss: 0.2221\n",
      "Epoch 102/200\n",
      "22/22 [==============================] - 1s 34ms/step - loss: 0.2127\n",
      "Epoch 103/200\n",
      "22/22 [==============================] - 1s 35ms/step - loss: 0.2085\n",
      "Epoch 104/200\n",
      "22/22 [==============================] - 1s 35ms/step - loss: 0.2069\n",
      "Epoch 105/200\n",
      "22/22 [==============================] - 1s 34ms/step - loss: 0.2256\n",
      "Epoch 106/200\n",
      "22/22 [==============================] - 1s 34ms/step - loss: 0.2311\n",
      "Epoch 107/200\n",
      "22/22 [==============================] - 1s 35ms/step - loss: 0.2221\n",
      "Epoch 108/200\n",
      "22/22 [==============================] - 1s 35ms/step - loss: 0.2105\n",
      "Epoch 109/200\n",
      "22/22 [==============================] - 1s 35ms/step - loss: 0.1984\n",
      "Epoch 110/200\n",
      "22/22 [==============================] - 1s 35ms/step - loss: 0.1899\n",
      "Epoch 111/200\n",
      "22/22 [==============================] - 1s 35ms/step - loss: 0.1836\n",
      "Epoch 112/200\n",
      "22/22 [==============================] - 1s 35ms/step - loss: 0.1798\n",
      "Epoch 113/200\n",
      "22/22 [==============================] - 1s 36ms/step - loss: 0.1770\n",
      "Epoch 114/200\n",
      "22/22 [==============================] - 1s 35ms/step - loss: 0.1681\n",
      "Epoch 115/200\n",
      "22/22 [==============================] - 1s 36ms/step - loss: 0.1662\n",
      "Epoch 116/200\n",
      "22/22 [==============================] - 1s 34ms/step - loss: 0.1610\n",
      "Epoch 117/200\n",
      "22/22 [==============================] - 1s 35ms/step - loss: 0.1560\n",
      "Epoch 118/200\n",
      "22/22 [==============================] - 1s 35ms/step - loss: 0.1565\n",
      "Epoch 119/200\n",
      "22/22 [==============================] - 1s 35ms/step - loss: 0.1514\n",
      "Epoch 120/200\n",
      "22/22 [==============================] - 1s 60ms/step - loss: 0.1534\n",
      "Epoch 121/200\n",
      "22/22 [==============================] - 1s 36ms/step - loss: 0.1488\n",
      "Epoch 122/200\n",
      "22/22 [==============================] - 1s 36ms/step - loss: 0.1430\n",
      "Epoch 123/200\n",
      "22/22 [==============================] - 1s 35ms/step - loss: 0.1434\n",
      "Epoch 124/200\n",
      "22/22 [==============================] - 1s 35ms/step - loss: 0.1410\n",
      "Epoch 125/200\n",
      "22/22 [==============================] - 1s 38ms/step - loss: 0.1389\n",
      "Epoch 126/200\n",
      "22/22 [==============================] - 1s 35ms/step - loss: 0.1357\n",
      "Epoch 127/200\n",
      "22/22 [==============================] - 1s 36ms/step - loss: 0.1364\n",
      "Epoch 128/200\n",
      "22/22 [==============================] - 1s 36ms/step - loss: 0.1371\n",
      "Epoch 129/200\n",
      "22/22 [==============================] - 1s 36ms/step - loss: 0.1363\n",
      "Epoch 130/200\n",
      "22/22 [==============================] - 1s 36ms/step - loss: 0.1346\n",
      "Epoch 131/200\n",
      "22/22 [==============================] - 1s 36ms/step - loss: 0.1388\n",
      "Epoch 132/200\n",
      "22/22 [==============================] - 1s 35ms/step - loss: 0.1403\n",
      "Epoch 133/200\n",
      "22/22 [==============================] - 1s 36ms/step - loss: 0.1374\n",
      "Epoch 134/200\n",
      "22/22 [==============================] - 1s 36ms/step - loss: 0.1388\n",
      "Epoch 135/200\n",
      "22/22 [==============================] - 1s 36ms/step - loss: 0.1372\n",
      "Epoch 136/200\n",
      "22/22 [==============================] - 1s 38ms/step - loss: 0.1317\n",
      "Epoch 137/200\n",
      "22/22 [==============================] - 1s 38ms/step - loss: 0.1334\n",
      "Epoch 138/200\n",
      "22/22 [==============================] - 1s 36ms/step - loss: 0.1281\n",
      "Epoch 139/200\n",
      "22/22 [==============================] - 1s 36ms/step - loss: 0.1234\n",
      "Epoch 140/200\n",
      "22/22 [==============================] - 1s 64ms/step - loss: 0.1212\n",
      "Epoch 141/200\n",
      "22/22 [==============================] - 1s 37ms/step - loss: 0.1188\n",
      "Epoch 142/200\n",
      "22/22 [==============================] - 1s 38ms/step - loss: 0.1168\n",
      "Epoch 143/200\n",
      "22/22 [==============================] - 1s 38ms/step - loss: 0.1174\n",
      "Epoch 144/200\n",
      "22/22 [==============================] - 1s 37ms/step - loss: 0.1128\n",
      "Epoch 145/200\n",
      "22/22 [==============================] - 1s 37ms/step - loss: 0.1091\n",
      "Epoch 146/200\n",
      "22/22 [==============================] - 1s 38ms/step - loss: 0.1101\n",
      "Epoch 147/200\n",
      "22/22 [==============================] - 1s 37ms/step - loss: 0.1079\n",
      "Epoch 148/200\n",
      "22/22 [==============================] - 1s 36ms/step - loss: 0.1101\n",
      "Epoch 149/200\n",
      "22/22 [==============================] - 1s 40ms/step - loss: 0.1052\n",
      "Epoch 150/200\n",
      "22/22 [==============================] - 1s 39ms/step - loss: 0.1031\n",
      "Epoch 151/200\n",
      "22/22 [==============================] - 1s 36ms/step - loss: 0.1030\n",
      "Epoch 152/200\n",
      "22/22 [==============================] - 1s 36ms/step - loss: 0.1034\n",
      "Epoch 153/200\n",
      "22/22 [==============================] - 1s 37ms/step - loss: 0.1000\n",
      "Epoch 154/200\n",
      "22/22 [==============================] - 1s 36ms/step - loss: 0.1003\n",
      "Epoch 155/200\n",
      "22/22 [==============================] - 1s 38ms/step - loss: 0.0988\n",
      "Epoch 156/200\n",
      "22/22 [==============================] - 1s 36ms/step - loss: 0.1010\n",
      "Epoch 157/200\n",
      "22/22 [==============================] - 1s 38ms/step - loss: 0.0992\n",
      "Epoch 158/200\n",
      "22/22 [==============================] - 1s 36ms/step - loss: 0.1001\n",
      "Epoch 159/200\n",
      "22/22 [==============================] - 1s 36ms/step - loss: 0.0970\n",
      "Epoch 160/200\n",
      "22/22 [==============================] - 1s 62ms/step - loss: 0.0984\n",
      "Epoch 161/200\n",
      "22/22 [==============================] - 1s 39ms/step - loss: 0.0992\n",
      "Epoch 162/200\n",
      "22/22 [==============================] - 1s 37ms/step - loss: 0.0992\n",
      "Epoch 163/200\n",
      "22/22 [==============================] - 1s 38ms/step - loss: 0.1001\n",
      "Epoch 164/200\n",
      "22/22 [==============================] - 1s 36ms/step - loss: 0.1035\n",
      "Epoch 165/200\n",
      "22/22 [==============================] - 1s 38ms/step - loss: 0.1018\n",
      "Epoch 166/200\n",
      "22/22 [==============================] - 1s 35ms/step - loss: 0.1048\n",
      "Epoch 167/200\n",
      "22/22 [==============================] - 1s 35ms/step - loss: 0.1108\n",
      "Epoch 168/200\n",
      "22/22 [==============================] - 1s 36ms/step - loss: 0.1165\n",
      "Epoch 169/200\n",
      "22/22 [==============================] - 1s 36ms/step - loss: 0.1156\n",
      "Epoch 170/200\n",
      "22/22 [==============================] - 1s 36ms/step - loss: 0.1188\n",
      "Epoch 171/200\n",
      "22/22 [==============================] - 1s 35ms/step - loss: 0.1192\n",
      "Epoch 172/200\n",
      "22/22 [==============================] - 1s 36ms/step - loss: 0.1167\n",
      "Epoch 173/200\n",
      "22/22 [==============================] - 1s 37ms/step - loss: 0.1103\n",
      "Epoch 174/200\n",
      "22/22 [==============================] - 1s 37ms/step - loss: 0.1034\n",
      "Epoch 175/200\n",
      "22/22 [==============================] - 1s 38ms/step - loss: 0.1004\n",
      "Epoch 176/200\n",
      "22/22 [==============================] - 1s 39ms/step - loss: 0.1019\n",
      "Epoch 177/200\n",
      "22/22 [==============================] - 1s 38ms/step - loss: 0.1005\n",
      "Epoch 178/200\n",
      "22/22 [==============================] - 1s 38ms/step - loss: 0.0983\n",
      "Epoch 179/200\n",
      "22/22 [==============================] - 1s 38ms/step - loss: 0.0965\n",
      "Epoch 180/200\n",
      "22/22 [==============================] - 1s 61ms/step - loss: 0.0989\n",
      "Epoch 181/200\n",
      "22/22 [==============================] - 1s 36ms/step - loss: 0.0947\n",
      "Epoch 182/200\n",
      "22/22 [==============================] - 1s 36ms/step - loss: 0.0920\n",
      "Epoch 183/200\n",
      "22/22 [==============================] - 1s 37ms/step - loss: 0.0883\n",
      "Epoch 184/200\n",
      "22/22 [==============================] - 1s 36ms/step - loss: 0.0899\n",
      "Epoch 185/200\n",
      "22/22 [==============================] - 1s 37ms/step - loss: 0.0881\n",
      "Epoch 186/200\n",
      "22/22 [==============================] - 1s 37ms/step - loss: 0.0870\n",
      "Epoch 187/200\n",
      "22/22 [==============================] - 1s 36ms/step - loss: 0.0866\n",
      "Epoch 188/200\n",
      "22/22 [==============================] - 1s 37ms/step - loss: 0.0861\n",
      "Epoch 189/200\n",
      "22/22 [==============================] - 1s 38ms/step - loss: 0.0845\n",
      "Epoch 190/200\n",
      "22/22 [==============================] - 1s 36ms/step - loss: 0.0840\n",
      "Epoch 191/200\n",
      "22/22 [==============================] - 1s 37ms/step - loss: 0.0845\n",
      "Epoch 192/200\n",
      "22/22 [==============================] - 1s 36ms/step - loss: 0.0858\n",
      "Epoch 193/200\n",
      "22/22 [==============================] - 1s 36ms/step - loss: 0.0884\n",
      "Epoch 194/200\n",
      "22/22 [==============================] - 1s 38ms/step - loss: 0.0837\n",
      "Epoch 195/200\n",
      "22/22 [==============================] - 1s 36ms/step - loss: 0.0853\n",
      "Epoch 196/200\n",
      "22/22 [==============================] - 1s 37ms/step - loss: 0.0841\n",
      "Epoch 197/200\n",
      "22/22 [==============================] - 1s 36ms/step - loss: 0.0857\n",
      "Epoch 198/200\n"
     ]
    },
    {
     "name": "stdout",
     "output_type": "stream",
     "text": [
      "22/22 [==============================] - 1s 37ms/step - loss: 0.0851\n",
      "Epoch 199/200\n",
      "22/22 [==============================] - 1s 37ms/step - loss: 0.0846\n",
      "Epoch 200/200\n",
      "22/22 [==============================] - 1s 61ms/step - loss: 0.0863\n"
     ]
    }
   ],
   "source": [
    "EPOCHS = 200\n",
    "\n",
    "history = model.fit(dataset, epochs=EPOCHS, callbacks=[checkpoint_callback])"
   ]
  },
  {
   "cell_type": "code",
   "execution_count": 39,
   "metadata": {},
   "outputs": [
    {
     "data": {
      "text/plain": [
       "'./training_checkpoints\\\\ckpt_200'"
      ]
     },
     "execution_count": 39,
     "metadata": {},
     "output_type": "execute_result"
    }
   ],
   "source": [
    "tf.train.latest_checkpoint(checkpoint_dir)"
   ]
  },
  {
   "cell_type": "code",
   "execution_count": 40,
   "metadata": {},
   "outputs": [],
   "source": [
    "model = build_model(vocab_size, embedding_dim, rnn_units, batch_size=1)\n",
    "model.load_weights(tf.train.latest_checkpoint(checkpoint_dir))\n",
    "model.build(tf.TensorShape([1, None]))"
   ]
  },
  {
   "cell_type": "code",
   "execution_count": 41,
   "metadata": {},
   "outputs": [
    {
     "name": "stdout",
     "output_type": "stream",
     "text": [
      "Model: \"sequential_1\"\n",
      "_________________________________________________________________\n",
      "Layer (type)                 Output Shape              Param #   \n",
      "=================================================================\n",
      "embedding_1 (Embedding)      (1, None, 256)            2388736   \n",
      "_________________________________________________________________\n",
      "gru_1 (GRU)                  (1, None, 1024)           3938304   \n",
      "_________________________________________________________________\n",
      "lstm_1 (LSTM)                (1, None, 1024)           8392704   \n",
      "_________________________________________________________________\n",
      "dense_1 (Dense)              (1, None, 9331)           9564275   \n",
      "=================================================================\n",
      "Total params: 24,284,019\n",
      "Trainable params: 24,284,019\n",
      "Non-trainable params: 0\n",
      "_________________________________________________________________\n"
     ]
    }
   ],
   "source": [
    "model.summary()"
   ]
  },
  {
   "cell_type": "code",
   "execution_count": 44,
   "metadata": {},
   "outputs": [],
   "source": [
    "def generate_text(model, start_string):\n",
    "    # Evaluation step (generating text using the learned model)\n",
    "\n",
    "    # Number of characters to generate\n",
    "    num_generate = 16\n",
    "\n",
    "    # Converting our start string to numbers (vectorizing)\n",
    "    input_eval = [word2idx[s] for s in nltk.word_tokenize(start_string)]\n",
    "    input_eval = tf.expand_dims(input_eval, 0)\n",
    "\n",
    "    # Empty string to store our results\n",
    "    text_generated = []\n",
    "\n",
    "    # Low temperature results in more predictable text.\n",
    "    # Higher temperature results in more surprising text.\n",
    "    # Experiment to find the best setting.\n",
    "    temperature = 1\n",
    "\n",
    "    # Here batch size == 1\n",
    "    model.reset_states()\n",
    "    for i in range(num_generate):\n",
    "        predictions = model(input_eval)\n",
    "        predictions = tf.squeeze(predictions, 0)\n",
    "        # using a categorical distribution to predict the character returned by the model\n",
    "        predictions = predictions / temperature\n",
    "        predicted_id = tf.random.categorical(predictions, num_samples=1)[-1, 0].numpy()\n",
    "\n",
    "        # Pass the predicted character as the next input to the model\n",
    "        # along with the previous hidden state\n",
    "        input_eval = tf.expand_dims([predicted_id], 0)\n",
    "\n",
    "        text_generated.append(idx2word[predicted_id])\n",
    "\n",
    "    return (start_string +' '+ ' '.join(text_generated))"
   ]
  },
  {
   "cell_type": "code",
   "execution_count": 57,
   "metadata": {},
   "outputs": [
    {
     "name": "stdout",
     "output_type": "stream",
     "text": [
      "Грозы сады монастыри Бухарцы сани огороды Купцы лачужки мужики Бульвары башни казаки Аптеки магазины моды Балконы XLVI\n"
     ]
    }
   ],
   "source": [
    "print(generate_text(model, start_string=u\"Грозы\"))"
   ]
  },
  {
   "cell_type": "code",
   "execution_count": 58,
   "metadata": {},
   "outputs": [
    {
     "name": "stdout",
     "output_type": "stream",
     "text": [
      "Залог пред камином стол накрыт Евгений ждет вот едет Ленский На тройке чалых лошадей Давай обедать поскорей\n"
     ]
    }
   ],
   "source": [
    "print(generate_text(model, start_string=u\"Залог\"))"
   ]
  },
  {
   "cell_type": "code",
   "execution_count": 69,
   "metadata": {},
   "outputs": [
    {
     "name": "stdout",
     "output_type": "stream",
     "text": [
      "И все ей кажется бесценным Все душу томную живит Полумучительной отрадой И стол с померкшею лампадой Без элегических\n"
     ]
    }
   ],
   "source": [
    "print(generate_text(model, start_string=u\"И все\"))"
   ]
  },
  {
   "cell_type": "code",
   "execution_count": null,
   "metadata": {},
   "outputs": [],
   "source": []
  }
 ],
 "metadata": {
  "kernelspec": {
   "display_name": "Python 3",
   "language": "python",
   "name": "python3"
  },
  "language_info": {
   "codemirror_mode": {
    "name": "ipython",
    "version": 3
   },
   "file_extension": ".py",
   "mimetype": "text/x-python",
   "name": "python",
   "nbconvert_exporter": "python",
   "pygments_lexer": "ipython3",
   "version": "3.7.7"
  }
 },
 "nbformat": 4,
 "nbformat_minor": 4
}
